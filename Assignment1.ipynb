{
 "cells": [
  {
   "cell_type": "code",
   "execution_count": 11,
   "id": "fa910fc9-25d6-4273-9cea-67a4c901b6cd",
   "metadata": {},
   "outputs": [
    {
     "name": "stdout",
     "output_type": "stream",
     "text": [
      "Text Data:\n",
      " TXT test file\n",
      "Purpose: Provide example of this file type\n",
      "Document file type: TXT\n",
      "Version: 1.0\n",
      "Remark:\n",
      "\n",
      "Example content:\n",
      "The names \"John Doe\" for males, \"Jane Doe\" or \"Jane Roe\" for females, or \"Jonnie Doe\" and \"Janie Doe\" for children, or just \"Doe\" non-gender-specifically are used as placeholder names for a party whose true identity is unknown or must be withheld in a legal action, case, or discussion. The names are also used to refer to acorpse or hospital patient whose identity is unknown. This practice is widely used in the United States and Canada, but is rarely used in other English-speaking countries including the United Kingdom itself, from where the use of \"John Doe\" in a legal context originates. The names Joe Bloggs or John Smith are used in the UK instead, as well as in Australia and New Zealand.\n",
      "\n",
      "John Doe is sometimes used to refer to a typical male in other contexts as well, in a similar manner to John Q. Public, known in Great Britain as Joe Public, John Smith or Joe Bloggs. For example, the first name listed on a form is often John Doe, along with a fictional address or other fictional information to provide an example of how to fill in the form. The name is also used frequently in popular culture, for example in the Frank Capra film Meet John Doe. John Doe was also the name of a 2002 American television series.\n",
      "\n",
      "Similarly, a child or baby whose identity is unknown may be referred to as Baby Doe. A notorious murder case in Kansas City, Missouri, referred to the baby victim as Precious Doe. Other unidentified female murder victims are Cali Doe and Princess Doe. Additional persons may be called James Doe, Judy Doe, etc. However, to avoid possible confusion, if two anonymous or unknown parties are cited in a specific case or action, the surnames Doe and Roe may be used simultaneously; for example, \"John Doe v. Jane Roe\". If several anonymous parties are referenced, they may simply be labelled John Doe #1, John Doe #2, etc. (the U.S. Operation Delego cited 21 (numbered) \"John Doe\"s) or labelled with other variants of Doe / Roe / Poe / etc. Other early alternatives such as John Stiles and Richard Miles are now rarely used, and Mary Major has been used in some American federal cases.\n",
      "\n",
      "\n",
      "\n",
      "File created by https://www.online-convert.com\n",
      "More example files: https://www.online-convert.com/file-type\n",
      "Text of Example content: Wikipedia (https://en.wikipedia.org/wiki/John_Doe)\n",
      "License: Attribution-ShareAlike 4.0 (https://creativecommons.org/licenses/by-sa/4.0/)\n",
      "\n",
      "Feel free to use and share the file according to the license above.\n",
      "Text data written to output.txt\n",
      "TXT test file\n",
      "Purpose: Provide example of this file type\n",
      "Document file type: TXT\n",
      "Version: 1.0\n",
      "Remark:\n",
      "\n",
      "Example content:\n",
      "The names \"John Doe\" for males, \"Jane Doe\" or \"Jane Roe\" for females, or \"Jonnie Doe\" and \"Janie Doe\" for children, or just \"Doe\" non-gender-specifically are used as placeholder names for a party whose true identity is unknown or must be withheld in a legal action, case, or discussion. The names are also used to refer to acorpse or hospital patient whose identity is unknown. This practice is widely used in the United States and Canada, but is rarely used in other English-speaking countries including the United Kingdom itself, from where the use of \"John Doe\" in a legal context originates. The names Joe Bloggs or John Smith are used in the UK instead, as well as in Australia and New Zealand.\n",
      "\n",
      "John Doe is sometimes used to refer to a typical male in other contexts as well, in a similar manner to John Q. Public, known in Great Britain as Joe Public, John Smith or Joe Bloggs. For example, the first name listed on a form is often John Doe, along with a fictional address or other fictional information to provide an example of how to fill in the form. The name is also used frequently in popular culture, for example in the Frank Capra film Meet John Doe. John Doe was also the name of a 2002 American television series.\n",
      "\n",
      "Similarly, a child or baby whose identity is unknown may be referred to as Baby Doe. A notorious murder case in Kansas City, Missouri, referred to the baby victim as Precious Doe. Other unidentified female murder victims are Cali Doe and Princess Doe. Additional persons may be called James Doe, Judy Doe, etc. However, to avoid possible confusion, if two anonymous or unknown parties are cited in a specific case or action, the surnames Doe and Roe may be used simultaneously; for example, \"John Doe v. Jane Roe\". If several anonymous parties are referenced, they may simply be labelled John Doe #1, John Doe #2, etc. (the U.S. Operation Delego cited 21 (numbered) \"John Doe\"s) or labelled with other variants of Doe / Roe / Poe / etc. Other early alternatives such as John Stiles and Richard Miles are now rarely used, and Mary Major has been used in some American federal cases.\n",
      "\n",
      "\n",
      "\n",
      "File created by https://www.online-convert.com\n",
      "More example files: https://www.online-convert.com/file-type\n",
      "Text of Example content: Wikipedia (https://en.wikipedia.org/wiki/John_Doe)\n",
      "License: Attribution-ShareAlike 4.0 (https://creativecommons.org/licenses/by-sa/4.0/)\n",
      "\n",
      "Feel free to use and share the file according to the license above.\n"
     ]
    }
   ],
   "source": [
    "\n",
    "## Handling text file\n",
    "def handle_txt(file_path):\n",
    "    with open(file_path, 'r') as file:\n",
    "        text_data = file.read()\n",
    "    print(\"Text Data:\\n\", text_data)\n",
    "    with open('output.txt', 'w') as file:\n",
    "        file.write(text_data)\n",
    "    print(\"Text data written to output.txt\")\n",
    "\n",
    "\n",
    "handle_txt('sample.txt') \n",
    "\n",
    "with open('output.txt', 'r') as file:\n",
    "    text_data=file.read()\n",
    "    print(text_data)"
   ]
  },
  {
   "cell_type": "markdown",
   "id": "1547513b-d6aa-4dac-9c63-ddb4d3ae65f8",
   "metadata": {},
   "source": [
    "####      Handling .csv files"
   ]
  },
  {
   "cell_type": "code",
   "execution_count": 18,
   "id": "bd70f2f7-d7b1-42c5-bfb4-897354aba687",
   "metadata": {},
   "outputs": [
    {
     "name": "stdout",
     "output_type": "stream",
     "text": [
      "CSV data written to output.csv\n",
      "  Series_reference   Period  Data_value Suppressed STATUS   UNITS  Magnitude  \\\n",
      "0      BDCQ.SEA1AA  2011.06     80078.0        NaN      F  Number          0   \n",
      "1      BDCQ.SEA1AA  2011.09     78324.0        NaN      F  Number          0   \n",
      "2      BDCQ.SEA1AA  2011.12     85850.0        NaN      F  Number          0   \n",
      "3      BDCQ.SEA1AA  2012.03     90743.0        NaN      F  Number          0   \n",
      "4      BDCQ.SEA1AA  2012.06     81780.0        NaN      F  Number          0   \n",
      "\n",
      "                          Subject                            Group  \\\n",
      "0  Business Data Collection - BDC  Industry by employment variable   \n",
      "1  Business Data Collection - BDC  Industry by employment variable   \n",
      "2  Business Data Collection - BDC  Industry by employment variable   \n",
      "3  Business Data Collection - BDC  Industry by employment variable   \n",
      "4  Business Data Collection - BDC  Industry by employment variable   \n",
      "\n",
      "  Series_title_1                     Series_title_2 Series_title_3  \\\n",
      "0    Filled jobs  Agriculture, Forestry and Fishing         Actual   \n",
      "1    Filled jobs  Agriculture, Forestry and Fishing         Actual   \n",
      "2    Filled jobs  Agriculture, Forestry and Fishing         Actual   \n",
      "3    Filled jobs  Agriculture, Forestry and Fishing         Actual   \n",
      "4    Filled jobs  Agriculture, Forestry and Fishing         Actual   \n",
      "\n",
      "   Series_title_4  Series_title_5  \n",
      "0             NaN             NaN  \n",
      "1             NaN             NaN  \n",
      "2             NaN             NaN  \n",
      "3             NaN             NaN  \n",
      "4             NaN             NaN  \n"
     ]
    }
   ],
   "source": [
    "import pandas as pd\n",
    "\n",
    "def handle_csv(file_path):\n",
    "    df = pd.read_csv(file_path)\n",
    "    #print(\"CSV Data:\\n\", df.head())\n",
    "    df.to_csv('output_csv.csv', index=False)\n",
    "    print(\"CSV data written to output.csv\")\n",
    "\n",
    "handle_csv('sample_csv.csv') \n",
    "\n",
    "df= pd.read_csv('output_csv.csv')\n",
    "print(df.head())\n"
   ]
  },
  {
   "cell_type": "markdown",
   "id": "247abfbe-1280-4736-87e8-e4966b35c5dd",
   "metadata": {},
   "source": [
    "##### Handling .xml files"
   ]
  },
  {
   "cell_type": "code",
   "execution_count": 24,
   "id": "b73f3b18-0fc9-4ca6-9e6b-bfb8fe8ef83d",
   "metadata": {},
   "outputs": [
    {
     "name": "stdout",
     "output_type": "stream",
     "text": [
      "person : \n",
      "    \n",
      "person : \n",
      "    \n",
      "book : \n",
      "    \n",
      "XML data written to output.xml\n"
     ]
    }
   ],
   "source": [
    "import xml.etree.ElementTree as ET\n",
    "def handle_xml(file_path):\n",
    "    tree = ET.parse(file_path)\n",
    "    root = tree.getroot()\n",
    "    for elem in root:\n",
    "        print(elem.tag, \":\", elem.text)\n",
    "    \n",
    "    tree.write('output1.xml')\n",
    "    print(\"XML data written to output.xml\")\n",
    "\n",
    "handle_xml('sample1.xml')  \n"
   ]
  },
  {
   "cell_type": "code",
   "execution_count": null,
   "id": "4c1f6c94-cd09-4bcb-8e12-d3452c585fbf",
   "metadata": {},
   "outputs": [],
   "source": []
  }
 ],
 "metadata": {
  "kernelspec": {
   "display_name": "Python 3 (ipykernel)",
   "language": "python",
   "name": "python3"
  },
  "language_info": {
   "codemirror_mode": {
    "name": "ipython",
    "version": 3
   },
   "file_extension": ".py",
   "mimetype": "text/x-python",
   "name": "python",
   "nbconvert_exporter": "python",
   "pygments_lexer": "ipython3",
   "version": "3.12.4"
  }
 },
 "nbformat": 4,
 "nbformat_minor": 5
}
